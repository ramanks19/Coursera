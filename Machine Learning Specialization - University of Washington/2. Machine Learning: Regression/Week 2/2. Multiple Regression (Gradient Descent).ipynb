{
  "nbformat": 4,
  "nbformat_minor": 0,
  "metadata": {
    "colab": {
      "name": "Multiple Regression (gradient descent).ipynb",
      "provenance": [],
      "collapsed_sections": []
    },
    "kernelspec": {
      "name": "python3",
      "display_name": "Python 3"
    },
    "language_info": {
      "name": "python"
    }
  },
  "cells": [
    {
      "cell_type": "markdown",
      "source": [
        "# Regression Week 2: Multiple Regression (Gradient Descent)"
      ],
      "metadata": {
        "id": "x12jRFWbm9VR"
      }
    },
    {
      "cell_type": "markdown",
      "source": [
        "In the first notebook we explored multiple regression using Turi Create. Now we will use Turi Create along with numpy to solve for the regression weights with gradient descent.\n",
        "\n",
        "In this notebook we will cover estimating multiple regression weights via gradient descent. You will:\n",
        "* Add a constant column of 1's to a Turi Create SFrame to account for the intercept\n",
        "* Convert an SFrame into a Numpy array\n",
        "* Write a predict_output() function using Numpy\n",
        "* Write a numpy function to compute the derivative of the regression weights with respect to a single feature\n",
        "* Write gradient descent function to compute the regression weights given an initial weight vector, step size and tolerance.\n",
        "* Use the gradient descent function to estimate regression weights for multiple features"
      ],
      "metadata": {
        "id": "QKXlS25Im40B"
      }
    },
    {
      "cell_type": "code",
      "execution_count": 1,
      "metadata": {
        "colab": {
          "base_uri": "https://localhost:8080/",
          "height": 1000
        },
        "id": "0f5HPZupmVr-",
        "outputId": "523a3a6f-05b5-4cd7-e85c-01b187289520"
      },
      "outputs": [
        {
          "output_type": "stream",
          "name": "stdout",
          "text": [
            "Collecting turicreate\n",
            "  Downloading turicreate-6.4.1-cp37-cp37m-manylinux1_x86_64.whl (92.0 MB)\n",
            "\u001b[K     |████████████████████████████████| 92.0 MB 13 kB/s \n",
            "\u001b[?25hCollecting resampy==0.2.1\n",
            "  Downloading resampy-0.2.1.tar.gz (322 kB)\n",
            "\u001b[K     |████████████████████████████████| 322 kB 62.7 MB/s \n",
            "\u001b[?25hRequirement already satisfied: decorator>=4.0.9 in /usr/local/lib/python3.7/dist-packages (from turicreate) (4.4.2)\n",
            "Requirement already satisfied: six>=1.10.0 in /usr/local/lib/python3.7/dist-packages (from turicreate) (1.15.0)\n",
            "Requirement already satisfied: scipy>=1.1.0 in /usr/local/lib/python3.7/dist-packages (from turicreate) (1.4.1)\n",
            "Requirement already satisfied: pandas>=0.23.2 in /usr/local/lib/python3.7/dist-packages (from turicreate) (1.3.5)\n",
            "Collecting coremltools==3.3\n",
            "  Downloading coremltools-3.3-cp37-none-manylinux1_x86_64.whl (3.5 MB)\n",
            "\u001b[K     |████████████████████████████████| 3.5 MB 41.8 MB/s \n",
            "\u001b[?25hCollecting prettytable==0.7.2\n",
            "  Downloading prettytable-0.7.2.zip (28 kB)\n",
            "Requirement already satisfied: requests>=2.9.1 in /usr/local/lib/python3.7/dist-packages (from turicreate) (2.23.0)\n",
            "Requirement already satisfied: pillow>=5.2.0 in /usr/local/lib/python3.7/dist-packages (from turicreate) (7.1.2)\n",
            "Collecting numba<0.51.0\n",
            "  Downloading numba-0.50.1-cp37-cp37m-manylinux2014_x86_64.whl (3.6 MB)\n",
            "\u001b[K     |████████████████████████████████| 3.6 MB 36.7 MB/s \n",
            "\u001b[?25hCollecting tensorflow<2.1.0,>=2.0.0\n",
            "  Downloading tensorflow-2.0.4-cp37-cp37m-manylinux2010_x86_64.whl (86.4 MB)\n",
            "\u001b[K     |████████████████████████████████| 86.4 MB 69 kB/s \n",
            "\u001b[?25hRequirement already satisfied: numpy in /usr/local/lib/python3.7/dist-packages (from turicreate) (1.21.6)\n",
            "Requirement already satisfied: protobuf>=3.1.0 in /usr/local/lib/python3.7/dist-packages (from coremltools==3.3->turicreate) (3.17.3)\n",
            "Collecting llvmlite<0.34,>=0.33.0.dev0\n",
            "  Downloading llvmlite-0.33.0-cp37-cp37m-manylinux1_x86_64.whl (18.3 MB)\n",
            "\u001b[K     |████████████████████████████████| 18.3 MB 415 kB/s \n",
            "\u001b[?25hRequirement already satisfied: setuptools in /usr/local/lib/python3.7/dist-packages (from numba<0.51.0->turicreate) (57.4.0)\n",
            "Requirement already satisfied: python-dateutil>=2.7.3 in /usr/local/lib/python3.7/dist-packages (from pandas>=0.23.2->turicreate) (2.8.2)\n",
            "Requirement already satisfied: pytz>=2017.3 in /usr/local/lib/python3.7/dist-packages (from pandas>=0.23.2->turicreate) (2022.1)\n",
            "Requirement already satisfied: chardet<4,>=3.0.2 in /usr/local/lib/python3.7/dist-packages (from requests>=2.9.1->turicreate) (3.0.4)\n",
            "Requirement already satisfied: idna<3,>=2.5 in /usr/local/lib/python3.7/dist-packages (from requests>=2.9.1->turicreate) (2.10)\n",
            "Requirement already satisfied: urllib3!=1.25.0,!=1.25.1,<1.26,>=1.21.1 in /usr/local/lib/python3.7/dist-packages (from requests>=2.9.1->turicreate) (1.24.3)\n",
            "Requirement already satisfied: certifi>=2017.4.17 in /usr/local/lib/python3.7/dist-packages (from requests>=2.9.1->turicreate) (2021.10.8)\n",
            "Requirement already satisfied: keras-preprocessing>=1.0.5 in /usr/local/lib/python3.7/dist-packages (from tensorflow<2.1.0,>=2.0.0->turicreate) (1.1.2)\n",
            "Requirement already satisfied: wrapt>=1.11.1 in /usr/local/lib/python3.7/dist-packages (from tensorflow<2.1.0,>=2.0.0->turicreate) (1.14.0)\n",
            "Collecting tensorflow-estimator<2.1.0,>=2.0.0\n",
            "  Downloading tensorflow_estimator-2.0.1-py2.py3-none-any.whl (449 kB)\n",
            "\u001b[K     |████████████████████████████████| 449 kB 61.0 MB/s \n",
            "\u001b[?25hRequirement already satisfied: opt-einsum>=2.3.2 in /usr/local/lib/python3.7/dist-packages (from tensorflow<2.1.0,>=2.0.0->turicreate) (3.3.0)\n",
            "Collecting numpy\n",
            "  Downloading numpy-1.18.5-cp37-cp37m-manylinux1_x86_64.whl (20.1 MB)\n",
            "\u001b[K     |████████████████████████████████| 20.1 MB 1.2 MB/s \n",
            "\u001b[?25hCollecting gast==0.2.2\n",
            "  Downloading gast-0.2.2.tar.gz (10 kB)\n",
            "Requirement already satisfied: termcolor>=1.1.0 in /usr/local/lib/python3.7/dist-packages (from tensorflow<2.1.0,>=2.0.0->turicreate) (1.1.0)\n",
            "Collecting h5py<=2.10.0\n",
            "  Downloading h5py-2.10.0-cp37-cp37m-manylinux1_x86_64.whl (2.9 MB)\n",
            "\u001b[K     |████████████████████████████████| 2.9 MB 26.0 MB/s \n",
            "\u001b[?25hRequirement already satisfied: grpcio>=1.8.6 in /usr/local/lib/python3.7/dist-packages (from tensorflow<2.1.0,>=2.0.0->turicreate) (1.44.0)\n",
            "Requirement already satisfied: google-pasta>=0.1.6 in /usr/local/lib/python3.7/dist-packages (from tensorflow<2.1.0,>=2.0.0->turicreate) (0.2.0)\n",
            "Collecting keras-applications>=1.0.8\n",
            "  Downloading Keras_Applications-1.0.8-py3-none-any.whl (50 kB)\n",
            "\u001b[K     |████████████████████████████████| 50 kB 6.6 MB/s \n",
            "\u001b[?25hRequirement already satisfied: wheel>=0.26 in /usr/local/lib/python3.7/dist-packages (from tensorflow<2.1.0,>=2.0.0->turicreate) (0.37.1)\n",
            "Requirement already satisfied: absl-py>=0.7.0 in /usr/local/lib/python3.7/dist-packages (from tensorflow<2.1.0,>=2.0.0->turicreate) (1.0.0)\n",
            "Requirement already satisfied: astor>=0.6.0 in /usr/local/lib/python3.7/dist-packages (from tensorflow<2.1.0,>=2.0.0->turicreate) (0.8.1)\n",
            "Collecting tensorboard<2.1.0,>=2.0.0\n",
            "  Downloading tensorboard-2.0.2-py3-none-any.whl (3.8 MB)\n",
            "\u001b[K     |████████████████████████████████| 3.8 MB 22.0 MB/s \n",
            "\u001b[?25hRequirement already satisfied: markdown>=2.6.8 in /usr/local/lib/python3.7/dist-packages (from tensorboard<2.1.0,>=2.0.0->tensorflow<2.1.0,>=2.0.0->turicreate) (3.3.6)\n",
            "Requirement already satisfied: google-auth<2,>=1.6.3 in /usr/local/lib/python3.7/dist-packages (from tensorboard<2.1.0,>=2.0.0->tensorflow<2.1.0,>=2.0.0->turicreate) (1.35.0)\n",
            "Requirement already satisfied: google-auth-oauthlib<0.5,>=0.4.1 in /usr/local/lib/python3.7/dist-packages (from tensorboard<2.1.0,>=2.0.0->tensorflow<2.1.0,>=2.0.0->turicreate) (0.4.6)\n",
            "Requirement already satisfied: werkzeug>=0.11.15 in /usr/local/lib/python3.7/dist-packages (from tensorboard<2.1.0,>=2.0.0->tensorflow<2.1.0,>=2.0.0->turicreate) (1.0.1)\n",
            "Requirement already satisfied: pyasn1-modules>=0.2.1 in /usr/local/lib/python3.7/dist-packages (from google-auth<2,>=1.6.3->tensorboard<2.1.0,>=2.0.0->tensorflow<2.1.0,>=2.0.0->turicreate) (0.2.8)\n",
            "Requirement already satisfied: rsa<5,>=3.1.4 in /usr/local/lib/python3.7/dist-packages (from google-auth<2,>=1.6.3->tensorboard<2.1.0,>=2.0.0->tensorflow<2.1.0,>=2.0.0->turicreate) (4.8)\n",
            "Requirement already satisfied: cachetools<5.0,>=2.0.0 in /usr/local/lib/python3.7/dist-packages (from google-auth<2,>=1.6.3->tensorboard<2.1.0,>=2.0.0->tensorflow<2.1.0,>=2.0.0->turicreate) (4.2.4)\n",
            "Requirement already satisfied: requests-oauthlib>=0.7.0 in /usr/local/lib/python3.7/dist-packages (from google-auth-oauthlib<0.5,>=0.4.1->tensorboard<2.1.0,>=2.0.0->tensorflow<2.1.0,>=2.0.0->turicreate) (1.3.1)\n",
            "Requirement already satisfied: importlib-metadata>=4.4 in /usr/local/lib/python3.7/dist-packages (from markdown>=2.6.8->tensorboard<2.1.0,>=2.0.0->tensorflow<2.1.0,>=2.0.0->turicreate) (4.11.3)\n",
            "Requirement already satisfied: typing-extensions>=3.6.4 in /usr/local/lib/python3.7/dist-packages (from importlib-metadata>=4.4->markdown>=2.6.8->tensorboard<2.1.0,>=2.0.0->tensorflow<2.1.0,>=2.0.0->turicreate) (4.2.0)\n",
            "Requirement already satisfied: zipp>=0.5 in /usr/local/lib/python3.7/dist-packages (from importlib-metadata>=4.4->markdown>=2.6.8->tensorboard<2.1.0,>=2.0.0->tensorflow<2.1.0,>=2.0.0->turicreate) (3.8.0)\n",
            "Requirement already satisfied: pyasn1<0.5.0,>=0.4.6 in /usr/local/lib/python3.7/dist-packages (from pyasn1-modules>=0.2.1->google-auth<2,>=1.6.3->tensorboard<2.1.0,>=2.0.0->tensorflow<2.1.0,>=2.0.0->turicreate) (0.4.8)\n",
            "Requirement already satisfied: oauthlib>=3.0.0 in /usr/local/lib/python3.7/dist-packages (from requests-oauthlib>=0.7.0->google-auth-oauthlib<0.5,>=0.4.1->tensorboard<2.1.0,>=2.0.0->tensorflow<2.1.0,>=2.0.0->turicreate) (3.2.0)\n",
            "Building wheels for collected packages: prettytable, resampy, gast\n",
            "  Building wheel for prettytable (setup.py) ... \u001b[?25l\u001b[?25hdone\n",
            "  Created wheel for prettytable: filename=prettytable-0.7.2-py3-none-any.whl size=13714 sha256=c947d9df46ac9583971ba5a283a9dfc900bb42c88dbe3f2d63437e24da7ae67b\n",
            "  Stored in directory: /root/.cache/pip/wheels/b2/7f/f6/f180315b584f00445045ff1699b550fa895d09471337ce21c6\n",
            "  Building wheel for resampy (setup.py) ... \u001b[?25l\u001b[?25hdone\n",
            "  Created wheel for resampy: filename=resampy-0.2.1-py3-none-any.whl size=320859 sha256=3ee9ad3b9fa2b588ae30b7978f701d45591b69e8b332076c9573300a2c8ed9b4\n",
            "  Stored in directory: /root/.cache/pip/wheels/71/74/53/d5ceb7c5ee7a168c7d106041863e71ac3273f4a4677743a284\n",
            "  Building wheel for gast (setup.py) ... \u001b[?25l\u001b[?25hdone\n",
            "  Created wheel for gast: filename=gast-0.2.2-py3-none-any.whl size=7554 sha256=2cb18de76c427ecdd069d1ce970102fc60e3c00a694ed54a95bb6ffd0003984d\n",
            "  Stored in directory: /root/.cache/pip/wheels/21/7f/02/420f32a803f7d0967b48dd823da3f558c5166991bfd204eef3\n",
            "Successfully built prettytable resampy gast\n",
            "Installing collected packages: numpy, llvmlite, h5py, tensorflow-estimator, tensorboard, numba, keras-applications, gast, tensorflow, resampy, prettytable, coremltools, turicreate\n",
            "  Attempting uninstall: numpy\n",
            "    Found existing installation: numpy 1.21.6\n",
            "    Uninstalling numpy-1.21.6:\n",
            "      Successfully uninstalled numpy-1.21.6\n",
            "  Attempting uninstall: llvmlite\n",
            "    Found existing installation: llvmlite 0.34.0\n",
            "    Uninstalling llvmlite-0.34.0:\n",
            "      Successfully uninstalled llvmlite-0.34.0\n",
            "  Attempting uninstall: h5py\n",
            "    Found existing installation: h5py 3.1.0\n",
            "    Uninstalling h5py-3.1.0:\n",
            "      Successfully uninstalled h5py-3.1.0\n",
            "  Attempting uninstall: tensorflow-estimator\n",
            "    Found existing installation: tensorflow-estimator 2.8.0\n",
            "    Uninstalling tensorflow-estimator-2.8.0:\n",
            "      Successfully uninstalled tensorflow-estimator-2.8.0\n",
            "  Attempting uninstall: tensorboard\n",
            "    Found existing installation: tensorboard 2.8.0\n",
            "    Uninstalling tensorboard-2.8.0:\n",
            "      Successfully uninstalled tensorboard-2.8.0\n",
            "  Attempting uninstall: numba\n",
            "    Found existing installation: numba 0.51.2\n",
            "    Uninstalling numba-0.51.2:\n",
            "      Successfully uninstalled numba-0.51.2\n",
            "  Attempting uninstall: gast\n",
            "    Found existing installation: gast 0.5.3\n",
            "    Uninstalling gast-0.5.3:\n",
            "      Successfully uninstalled gast-0.5.3\n",
            "  Attempting uninstall: tensorflow\n",
            "    Found existing installation: tensorflow 2.8.0\n",
            "    Uninstalling tensorflow-2.8.0:\n",
            "      Successfully uninstalled tensorflow-2.8.0\n",
            "  Attempting uninstall: resampy\n",
            "    Found existing installation: resampy 0.2.2\n",
            "    Uninstalling resampy-0.2.2:\n",
            "      Successfully uninstalled resampy-0.2.2\n",
            "  Attempting uninstall: prettytable\n",
            "    Found existing installation: prettytable 3.2.0\n",
            "    Uninstalling prettytable-3.2.0:\n",
            "      Successfully uninstalled prettytable-3.2.0\n",
            "\u001b[31mERROR: pip's dependency resolver does not currently take into account all the packages that are installed. This behaviour is the source of the following dependency conflicts.\n",
            "tensorflow-probability 0.16.0 requires gast>=0.3.2, but you have gast 0.2.2 which is incompatible.\n",
            "tables 3.7.0 requires numpy>=1.19.0, but you have numpy 1.18.5 which is incompatible.\n",
            "librosa 0.8.1 requires resampy>=0.2.2, but you have resampy 0.2.1 which is incompatible.\n",
            "jaxlib 0.3.2+cuda11.cudnn805 requires numpy>=1.19, but you have numpy 1.18.5 which is incompatible.\n",
            "jax 0.3.4 requires numpy>=1.19, but you have numpy 1.18.5 which is incompatible.\n",
            "datascience 0.10.6 requires folium==0.2.1, but you have folium 0.8.3 which is incompatible.\n",
            "albumentations 0.1.12 requires imgaug<0.2.7,>=0.2.5, but you have imgaug 0.2.9 which is incompatible.\u001b[0m\n",
            "Successfully installed coremltools-3.3 gast-0.2.2 h5py-2.10.0 keras-applications-1.0.8 llvmlite-0.33.0 numba-0.50.1 numpy-1.18.5 prettytable-0.7.2 resampy-0.2.1 tensorboard-2.0.2 tensorflow-2.0.4 tensorflow-estimator-2.0.1 turicreate-6.4.1\n"
          ]
        },
        {
          "output_type": "display_data",
          "data": {
            "application/vnd.colab-display-data+json": {
              "pip_warning": {
                "packages": [
                  "numpy"
                ]
              }
            }
          },
          "metadata": {}
        }
      ],
      "source": [
        "!pip install turicreate"
      ]
    },
    {
      "cell_type": "code",
      "source": [
        "from google.colab import drive\n",
        "drive.mount('/content/gdrive')"
      ],
      "metadata": {
        "colab": {
          "base_uri": "https://localhost:8080/"
        },
        "id": "IiagNHQ1nGKT",
        "outputId": "61a63d2b-b3e7-475f-ec5f-c2968247bd9c"
      },
      "execution_count": 1,
      "outputs": [
        {
          "output_type": "stream",
          "name": "stdout",
          "text": [
            "Mounted at /content/gdrive\n"
          ]
        }
      ]
    },
    {
      "cell_type": "code",
      "source": [
        "import os\n",
        "cwd_old = os.getcwd()\n",
        "print('\\nWorking directory: ', cwd_old)\n",
        "\n",
        "os.chdir('/content/gdrive/MyDrive/Machine Learning - Uni of Washington')\n",
        "print('Working directory has changed')\n",
        "\n",
        "# verifying the current directory has changed\n",
        "cwd_new = os.getcwd()\n",
        "print('\\nCurrent Working directory: ', cwd_new)"
      ],
      "metadata": {
        "colab": {
          "base_uri": "https://localhost:8080/"
        },
        "id": "mr9VuzsUnyOt",
        "outputId": "38eda053-891e-4e14-878f-df7e87d327c5"
      },
      "execution_count": 2,
      "outputs": [
        {
          "output_type": "stream",
          "name": "stdout",
          "text": [
            "\n",
            "Working directory:  /content\n",
            "Working directory has changed\n",
            "\n",
            "Current Working directory:  /content/gdrive/MyDrive/Machine Learning - Uni of Washington\n"
          ]
        }
      ]
    },
    {
      "cell_type": "markdown",
      "source": [
        "# Fire up Turi Create\n",
        "\n",
        "Make sure you have the latest version of Turi Create"
      ],
      "metadata": {
        "id": "3-aPA5idoGpX"
      }
    },
    {
      "cell_type": "code",
      "source": [
        "import turicreate"
      ],
      "metadata": {
        "id": "ZLycnT1In7N8"
      },
      "execution_count": 3,
      "outputs": []
    },
    {
      "cell_type": "markdown",
      "source": [
        "# Load in house sales data\n",
        "\n",
        "Dataset is from house sales in King County, the region where the city of Seattle, WA is located."
      ],
      "metadata": {
        "id": "Q6Cz5L2qoPHe"
      }
    },
    {
      "cell_type": "code",
      "source": [
        "sales = turicreate.SFrame('home_data.sframe/')"
      ],
      "metadata": {
        "id": "a7WsRFx4oNzD"
      },
      "execution_count": 4,
      "outputs": []
    },
    {
      "cell_type": "markdown",
      "source": [
        "# Convert to Numpy Array\n",
        "\n",
        "Although SFrames offer a number of benefits to users (especially when using Big Data and built-in Turi Create functions) in order to understand the details of the implementation of algorithms it's important to work with a library that allows for direct (and optimized) matrix operations. Numpy is a Python solution to work with matrices (or any multi-dimensional \"array\").\n",
        "\n",
        "Recall that the predicted value given the weights and the features is just the dot product between the feature and weight vector. Similarly, if we put all of the features row-by-row in a matrix then the predicted value for *all* the observations can be computed by right multiplying the \"feature matrix\" by the \"weight vector\". \n",
        "\n",
        "First we need to take the SFrame of our data and convert it into a 2D numpy array (also called a matrix). To do this we use Turi Create's built in .to_dataframe() which converts the SFrame into a Pandas (another python library) dataframe. We can then use Panda's .as_matrix() to convert the dataframe into a numpy matrix."
      ],
      "metadata": {
        "id": "VIRxO5EhodLG"
      }
    },
    {
      "cell_type": "code",
      "source": [
        "import numpy as np"
      ],
      "metadata": {
        "id": "-JWFscjSoVNX"
      },
      "execution_count": 5,
      "outputs": []
    },
    {
      "cell_type": "markdown",
      "source": [
        "Now we will write a function that will accept an SFrame, a list of feature names (e.g. ['sqft_living', 'bedrooms']) and an target feature e.g. ('price') and will return two things:\n",
        "* A numpy matrix whose columns are the desired features plus a constant column (this is how we create an 'intercept')\n",
        "* A numpy array containing the values of the output\n",
        "\n",
        "With this in mind, complete the following function (where there's an empty line you should write a line of code that does what the comment above indicates)"
      ],
      "metadata": {
        "id": "dHu4u5rDovMV"
      }
    },
    {
      "cell_type": "code",
      "source": [
        "def get_numpy_data(data_sframe, features, output):\n",
        "    data_sframe['constant'] = 1 # this is how you add a constant column to an SFrame\n",
        "    \n",
        "    # add the column 'constant' to the front of the features list so that we can extract it along with the others:\n",
        "    features = ['constant'] + features # this is how you combine two lists\n",
        "    \n",
        "    # select the columns of data_SFrame given by the features list into the SFrame features_sframe (now including constant):\n",
        "    features_sframe = data_sframe[features]\n",
        "\n",
        "    # the following line will convert the features_SFrame into a numpy matrix:\n",
        "    feature_matrix = features_sframe.to_numpy()\n",
        "\n",
        "    # assign the column of data_sframe associated with the output to the SArray output_sarray\n",
        "    output_sarray = data_sframe[output]\n",
        "\n",
        "    # the following will convert the SArray into a numpy array by first converting it to a list\n",
        "    output_array = output_sarray.to_numpy()\n",
        "    \n",
        "    return(feature_matrix, output_array)"
      ],
      "metadata": {
        "id": "_g4OUH9Goqim"
      },
      "execution_count": 6,
      "outputs": []
    },
    {
      "cell_type": "markdown",
      "source": [
        "For testing let's use the 'sqft_living' feature and a constant as our features and price as our output:"
      ],
      "metadata": {
        "id": "ebCQj9nwq2To"
      }
    },
    {
      "cell_type": "code",
      "source": [
        "(example_features, example_output) = get_numpy_data(sales, ['sqft_living'], 'price') # the [] around 'sqft_living' makes it a list\n",
        "print(example_features[0,:]) # this accesses the first row of the data the ':' indicates 'all columns'\n",
        "print(example_output[0]) # and the corresponding output"
      ],
      "metadata": {
        "colab": {
          "base_uri": "https://localhost:8080/"
        },
        "id": "IlhyfjcOqyug",
        "outputId": "63721b1d-594b-4339-bdaa-4ff1c548a1b1"
      },
      "execution_count": 7,
      "outputs": [
        {
          "output_type": "stream",
          "name": "stdout",
          "text": [
            "[1.00e+00 1.18e+03]\n",
            "221900.0\n"
          ]
        }
      ]
    },
    {
      "cell_type": "markdown",
      "source": [
        "# Predicting output given regression weights\n",
        "\n",
        "Suppose we had the weights [1.0, 1.0] and the features [1.0, 1180.0] and we wanted to compute the predicted output 1.0\\*1.0 + 1.0\\*1180.0 = 1181.0 this is the dot product between these two arrays. If they're numpy arrayws we can use np.dot() to compute this:"
      ],
      "metadata": {
        "id": "2SvXqO6UrJ20"
      }
    },
    {
      "cell_type": "code",
      "source": [
        "my_weights = np.array([1., 1.]) # the example weights\n",
        "my_features = example_features[0,] # we'll use the first data point\n",
        "predicted_value = np.dot(my_features, my_weights)\n",
        "print(predicted_value)"
      ],
      "metadata": {
        "colab": {
          "base_uri": "https://localhost:8080/"
        },
        "id": "HPVFjiX0rB1D",
        "outputId": "6819914e-3eab-4dac-faf8-71f8a80dbc82"
      },
      "execution_count": 8,
      "outputs": [
        {
          "output_type": "stream",
          "name": "stdout",
          "text": [
            "1181.0\n"
          ]
        }
      ]
    },
    {
      "cell_type": "markdown",
      "source": [
        "np.dot() also works when dealing with a matrix and a vector. Recall that the predictions from all the observations is just the RIGHT (as in weights on the right) dot product between the features *matrix* and the weights *vector*. With this in mind finish the following predict_output function to compute the predictions for an entire matrix of features given the matrix and the weights:"
      ],
      "metadata": {
        "id": "aak72hDprcqz"
      }
    },
    {
      "cell_type": "code",
      "source": [
        "def predict_output(feature_matrix, weights):\n",
        "    # assume feature_matrix is a numpy matrix containing the features as columns and weights is a corresponding numpy array\n",
        "    # create the predictions vector by using np.dot()\n",
        "    predictions = np.dot(feature_matrix, weights)\n",
        "\n",
        "    return(predictions)"
      ],
      "metadata": {
        "id": "K4uB9c6ErW3O"
      },
      "execution_count": 9,
      "outputs": []
    },
    {
      "cell_type": "markdown",
      "source": [
        "If you want to test your code run the following cell:"
      ],
      "metadata": {
        "id": "R1BdRAMWrxQ2"
      }
    },
    {
      "cell_type": "code",
      "source": [
        "test_predictions = predict_output(example_features, my_weights)\n",
        "print(test_predictions[0])\n",
        "print(test_predictions[1])"
      ],
      "metadata": {
        "colab": {
          "base_uri": "https://localhost:8080/"
        },
        "id": "a1bg0uEHrtKl",
        "outputId": "f2dde0a2-d08a-40b6-e03b-43b2f4274fef"
      },
      "execution_count": 10,
      "outputs": [
        {
          "output_type": "stream",
          "name": "stdout",
          "text": [
            "1181.0\n",
            "2571.0\n"
          ]
        }
      ]
    },
    {
      "cell_type": "markdown",
      "source": [
        "# Computing the Derivative\n",
        "\n",
        "We are now going to move to computing the derivative of the regression cost function. Recall that the cost function is the sum over the data points of the squared difference between an observed output and a predicted output.\n",
        "\n",
        "Since the derivative of a sum is the sum of the derivatives we can compute the derivative for a single data point and then sum over data points. We can write the squared difference between the observed output and predicted output for a single point as follows:\n",
        "\n",
        "(w[0]\\*[CONSTANT] + w[1]\\*[feature_1] + ... + w[i] \\*[feature_i] + ... +  w[k]\\*[feature_k] - output)^2\n",
        "\n",
        "Where we have k features and a constant. So the derivative with respect to weight w[i] by the chain rule is:\n",
        "\n",
        "2\\*(w[0]\\*[CONSTANT] + w[1]\\*[feature_1] + ... + w[i] \\*[feature_i] + ... +  w[k]\\*[feature_k] - output)\\* [feature_i]\n",
        "\n",
        "The term inside the paranethesis is just the error (difference between prediction and output). So we can re-write this as:\n",
        "\n",
        "2\\*error\\*[feature_i]\n",
        "\n",
        "That is, the derivative for the weight for feature i is the sum (over data points) of 2 times the product of the error and the feature itself. In the case of the constant then this is just twice the sum of the errors!\n",
        "\n",
        "Recall that twice the sum of the product of two vectors is just twice the dot product of the two vectors. Therefore the derivative for the weight for feature_i is just two times the dot product between the values of feature_i and the current errors. \n",
        "\n",
        "With this in mind complete the following derivative function which computes the derivative of the weight given the value of the feature (over all data points) and the errors (over all data points)."
      ],
      "metadata": {
        "id": "SNtQ6IXJr9Zl"
      }
    },
    {
      "cell_type": "code",
      "source": [
        "def feature_derivative(errors, feature):\n",
        "    # Assume that errors and feature are both numpy arrays of the same length (number of data points)\n",
        "    # compute twice the dot product of these vectors as 'derivative' and return the value\n",
        "    derivative = 2*np.dot(errors, feature)\n",
        "\n",
        "    return(derivative)"
      ],
      "metadata": {
        "id": "XtsA9tntr5Fd"
      },
      "execution_count": 11,
      "outputs": []
    },
    {
      "cell_type": "markdown",
      "source": [
        "To test your feature derivartive run the following:"
      ],
      "metadata": {
        "id": "ETMHp5fUsdUj"
      }
    },
    {
      "cell_type": "code",
      "source": [
        "(example_features, example_output) = get_numpy_data(sales, ['sqft_living'], 'price') \n",
        "my_weights = np.array([0., 0.]) # this makes all the predictions 0\n",
        "test_predictions = predict_output(example_features, my_weights) \n",
        "# just like SFrames 2 numpy arrays can be elementwise subtracted with '-': \n",
        "errors = test_predictions - example_output # prediction errors in this case is just the -example_output\n",
        "feature = example_features[:,0] # let's compute the derivative with respect to 'constant', the \":\" indicates \"all rows\"\n",
        "derivative = feature_derivative(errors, feature)\n",
        "print(derivative)\n",
        "print(-np.sum(example_output)*2) # should be the same as derivative"
      ],
      "metadata": {
        "colab": {
          "base_uri": "https://localhost:8080/"
        },
        "id": "tds7eBsHsaDF",
        "outputId": "5c69aa17-b70b-4537-8c39-45a415cda9f1"
      },
      "execution_count": 12,
      "outputs": [
        {
          "output_type": "stream",
          "name": "stdout",
          "text": [
            "-23345850022.0\n",
            "-23345850022.0\n"
          ]
        }
      ]
    },
    {
      "cell_type": "markdown",
      "source": [
        "# Gradient Descent\n",
        "\n",
        "Now we will write a function that performs a gradient descent. The basic premise is simple. Given a starting point we update the current weights by moving in the negative gradient direction. Recall that the gradient is the direction of *increase* and therefore the negative gradient is the direction of *decrease* and we're trying to *minimize* a cost function. \n",
        "\n",
        "The amount by which we move in the negative gradient *direction*  is called the 'step size'. We stop when we are 'sufficiently close' to the optimum. We define this by requiring that the magnitude (length) of the gradient vector to be smaller than a fixed 'tolerance'.\n",
        "\n",
        "With this in mind, complete the following gradient descent function below using your derivative function above. For each step in the gradient descent we update the weight for each feature befofe computing our stopping criteria"
      ],
      "metadata": {
        "id": "b1gfqT5tsvCy"
      }
    },
    {
      "cell_type": "code",
      "source": [
        "from math import sqrt # recall that the magnitude/length of a vector [g[0], g[1], g[2]] is sqrt(g[0]^2 + g[1]^2 + g[2]^2)"
      ],
      "metadata": {
        "id": "nQErqfLGsm6h"
      },
      "execution_count": 13,
      "outputs": []
    },
    {
      "cell_type": "code",
      "source": [
        "def regression_gradient_descent(feature_matrix, output, initial_weights, step_size, tolerance):\n",
        "    converged = False \n",
        "    weights = np.array(initial_weights) # make sure it's a numpy array\n",
        "    while not converged:\n",
        "        # compute the predictions based on feature_matrix and weights using your predict_output() function\n",
        "        predictions = predict_output(feature_matrix, weights)\n",
        "\n",
        "        # compute the errors as predictions - output\n",
        "        errors = predictions - output\n",
        "\n",
        "        gradient_sum_squares = 0 # initialize the gradient sum of squares\n",
        "        # while we haven't reached the tolerance yet, update each feature's weight\n",
        "        for i in range(len(weights)): # loop over each weight\n",
        "            # Recall that feature_matrix[:, i] is the feature column associated with weights[i]\n",
        "            # compute the derivative for weight[i]:\n",
        "            derivative = feature_derivative(errors, feature_matrix[:, i])\n",
        "\n",
        "            # add the squared value of the derivative to the gradient sum of squares (for assessing convergence)\n",
        "            gradient_sum_squares += (derivative**2)\n",
        "\n",
        "            # subtract the step size times the derivative from the current weight\n",
        "            weights[i] -= (step_size * derivative)\n",
        "            \n",
        "        # compute the square-root of the gradient sum of squares to get the gradient magnitude:\n",
        "        gradient_magnitude = sqrt(gradient_sum_squares)\n",
        "        if gradient_magnitude < tolerance:\n",
        "            converged = True\n",
        "    return(weights)"
      ],
      "metadata": {
        "id": "Liq-G1bys0yv"
      },
      "execution_count": 14,
      "outputs": []
    },
    {
      "cell_type": "markdown",
      "source": [
        "A few things to note before we run the gradient descent. Since the gradient is a sum over all the data points and involves a product of an error and a feature the gradient itself will be very large since the features are large (squarefeet) and the output is large (prices). So while you might expect \"tolerance\" to be small, small is only relative to the size of the features. \n",
        "\n",
        "For similar reasons the step size will be much smaller than you might expect but this is because the gradient has such large values."
      ],
      "metadata": {
        "id": "GkEzrknE20aE"
      }
    },
    {
      "cell_type": "markdown",
      "source": [
        "# Running the Gradient Descent as Simple Regression"
      ],
      "metadata": {
        "id": "wHSaEIS524Mo"
      }
    },
    {
      "cell_type": "markdown",
      "source": [
        "First let's split the data into training and test data."
      ],
      "metadata": {
        "id": "4yKdb0BF27he"
      }
    },
    {
      "cell_type": "code",
      "source": [
        "train_data,test_data = sales.random_split(.8,seed=0)"
      ],
      "metadata": {
        "id": "4bd1dW5Qt0tX"
      },
      "execution_count": 15,
      "outputs": []
    },
    {
      "cell_type": "markdown",
      "source": [
        "Although the gradient descent is designed for multiple regression since the constant is now a feature we can use the gradient descent function to estimate the parameters in the simple regression on squarefeet. The folowing cell sets up the feature_matrix, output, initial weights and step size for the first model:"
      ],
      "metadata": {
        "id": "39xsMWyw3AvN"
      }
    },
    {
      "cell_type": "code",
      "source": [
        "# let's test out the gradient descent\n",
        "simple_features = ['sqft_living']\n",
        "my_output = 'price'\n",
        "(simple_feature_matrix, output) = get_numpy_data(train_data, simple_features, my_output)\n",
        "initial_weights = np.array([-47000., 1.])\n",
        "step_size = 7e-12\n",
        "tolerance = 2.5e7"
      ],
      "metadata": {
        "id": "tQGV5pnD2-He"
      },
      "execution_count": 16,
      "outputs": []
    },
    {
      "cell_type": "markdown",
      "source": [
        "Next run your gradient descent with the above parameters."
      ],
      "metadata": {
        "id": "S8ppKfUC3JoC"
      }
    },
    {
      "cell_type": "code",
      "source": [
        "grad_descent_sqft_living = regression_gradient_descent(simple_feature_matrix, output, initial_weights, step_size, tolerance)\n",
        "print(grad_descent_sqft_living)"
      ],
      "metadata": {
        "colab": {
          "base_uri": "https://localhost:8080/"
        },
        "id": "83BYesVh3EcU",
        "outputId": "ba5bd4cf-d2e1-4ef0-9b11-6703299f63bc"
      },
      "execution_count": 17,
      "outputs": [
        {
          "output_type": "stream",
          "name": "stdout",
          "text": [
            "[-46999.88716555    281.91211912]\n"
          ]
        }
      ]
    },
    {
      "cell_type": "markdown",
      "source": [
        "**Quiz Question: What is the value of the weight for sqft_living -- the second element of ‘simple_weights’ (rounded to 1 decimal place)?**"
      ],
      "metadata": {
        "id": "c1P3pj2w4JR0"
      }
    },
    {
      "cell_type": "code",
      "source": [
        "print(\"The weight for sqft_living is:\", ((grad_descent_sqft_living[1]).round(1)))"
      ],
      "metadata": {
        "colab": {
          "base_uri": "https://localhost:8080/"
        },
        "id": "OkChub3e3zM2",
        "outputId": "4e3e21e2-86e8-4f2b-b914-0ad98f46273b"
      },
      "execution_count": 18,
      "outputs": [
        {
          "output_type": "stream",
          "name": "stdout",
          "text": [
            "The weight for sqft_living is: 281.9\n"
          ]
        }
      ]
    },
    {
      "cell_type": "markdown",
      "source": [
        "Use your newly estimated weights and your predict_output() function to compute the predictions on all the TEST data (you will need to create a numpy array of the test feature_matrix and test output first:"
      ],
      "metadata": {
        "id": "rbT6Vqcp4wJw"
      }
    },
    {
      "cell_type": "code",
      "source": [
        "(test_simple_feature_matrix, test_output) = get_numpy_data(test_data, simple_features, my_output)"
      ],
      "metadata": {
        "id": "-dYxPjr54VOJ"
      },
      "execution_count": 19,
      "outputs": []
    },
    {
      "cell_type": "markdown",
      "source": [
        "Now compute your predictions using test_simple_feature_matrix and your weights from above."
      ],
      "metadata": {
        "id": "r0p9LfrF414_"
      }
    },
    {
      "cell_type": "code",
      "source": [
        "test_predictions = predict_output(test_simple_feature_matrix, grad_descent_sqft_living)\n",
        "print(test_predictions)"
      ],
      "metadata": {
        "colab": {
          "base_uri": "https://localhost:8080/"
        },
        "id": "YXx93Gdb4zAY",
        "outputId": "6e63f1ed-d5cc-4bef-e307-b227e88012ae"
      },
      "execution_count": 20,
      "outputs": [
        {
          "output_type": "stream",
          "name": "stdout",
          "text": [
            "[356134.44317093 784640.86422788 435069.83652353 ... 663418.65300782\n",
            " 604217.10799338 240550.4743332 ]\n"
          ]
        }
      ]
    },
    {
      "cell_type": "markdown",
      "source": [
        "**Quiz Question: What is the predicted price for the 1st house in the TEST data set for model 1 (round to nearest dollar)?**"
      ],
      "metadata": {
        "id": "CzV-vXJD5bAc"
      }
    },
    {
      "cell_type": "code",
      "source": [
        "print(\"The predicted price for the 1st house in the TEST data set for model 1 is ${}\".format((test_predictions[0]).round(0)))"
      ],
      "metadata": {
        "colab": {
          "base_uri": "https://localhost:8080/"
        },
        "id": "MlBtPCsj5VtS",
        "outputId": "146b8856-3c5b-4ecb-c1a8-cecb30989c6a"
      },
      "execution_count": 21,
      "outputs": [
        {
          "output_type": "stream",
          "name": "stdout",
          "text": [
            "The predicted price for the 1st house in the TEST data set for model 1 is $356134.0\n"
          ]
        }
      ]
    },
    {
      "cell_type": "markdown",
      "source": [
        "Now that you have the predictions on test data, compute the RSS on the test data set. Save this value for comparison later. Recall that RSS is the sum of the squared errors (difference between prediction and output)."
      ],
      "metadata": {
        "id": "LiB7RtPE51Vy"
      }
    },
    {
      "cell_type": "code",
      "source": [
        "test_residuals = test_output - test_predictions\n",
        "test_RSS_1 = (test_residuals * test_residuals).sum()\n",
        "print(test_RSS_1)"
      ],
      "metadata": {
        "colab": {
          "base_uri": "https://localhost:8080/"
        },
        "id": "SwJj-dKf5t3T",
        "outputId": "04357925-2e1e-436b-ea9b-bd6e6fd63890"
      },
      "execution_count": 22,
      "outputs": [
        {
          "output_type": "stream",
          "name": "stdout",
          "text": [
            "275400047593155.94\n"
          ]
        }
      ]
    },
    {
      "cell_type": "markdown",
      "source": [
        "# Running a multiple regression"
      ],
      "metadata": {
        "id": "n0uh3jG96F3L"
      }
    },
    {
      "cell_type": "markdown",
      "source": [
        "Now we will use more than one actual feature. Use the following code to produce the weights for a second model with the following parameters:"
      ],
      "metadata": {
        "id": "fBCO6odD6ItC"
      }
    },
    {
      "cell_type": "code",
      "source": [
        "model_features = ['sqft_living', 'sqft_living15'] # sqft_living15 is the average squarefeet for the nearest 15 neighbors. \n",
        "my_output = 'price'\n",
        "(feature_matrix, output) = get_numpy_data(train_data, model_features, my_output)\n",
        "initial_weights = np.array([-100000., 1., 1.])\n",
        "step_size = 4e-12\n",
        "tolerance = 1e9"
      ],
      "metadata": {
        "id": "K5eGzclC6A3w"
      },
      "execution_count": 23,
      "outputs": []
    },
    {
      "cell_type": "markdown",
      "source": [
        "Use the above parameters to estimate the model weights. Record these values for your quiz."
      ],
      "metadata": {
        "id": "XNGui1FT6SA_"
      }
    },
    {
      "cell_type": "code",
      "source": [
        "weight_model_2 = regression_gradient_descent(feature_matrix, output, initial_weights, step_size, tolerance)\n",
        "print(weight_model_2)"
      ],
      "metadata": {
        "colab": {
          "base_uri": "https://localhost:8080/"
        },
        "id": "dpwXcFcy6Os_",
        "outputId": "4e125233-7e43-41c7-976f-f36773cf7a6d"
      },
      "execution_count": 24,
      "outputs": [
        {
          "output_type": "stream",
          "name": "stdout",
          "text": [
            "[-9.99999688e+04  2.45072603e+02  6.52795277e+01]\n"
          ]
        }
      ]
    },
    {
      "cell_type": "markdown",
      "source": [
        "Use your newly estimated weights and the predict_output function to compute the predictions on the TEST data. Don't forget to create a numpy array for these features from the test set first!"
      ],
      "metadata": {
        "id": "pFc2Gq0H6wal"
      }
    },
    {
      "cell_type": "code",
      "source": [
        "(test_feature_matrix, test_output) = get_numpy_data(test_data, model_features, my_output)\n",
        "\n",
        "test_predictions_model_2 = predict_output(test_feature_matrix, weight_model_2)\n",
        "print(test_predictions_model_2)"
      ],
      "metadata": {
        "id": "DZs1VGXq6rdu",
        "colab": {
          "base_uri": "https://localhost:8080/"
        },
        "outputId": "5dd713d3-e4aa-4213-e7de-0d9a77027c4f"
      },
      "execution_count": 25,
      "outputs": [
        {
          "output_type": "stream",
          "name": "stdout",
          "text": [
            "[366651.41203656 762662.39786164 386312.09499712 ... 682087.39928241\n",
            " 585579.27865729 216559.20396617]\n"
          ]
        }
      ]
    },
    {
      "cell_type": "markdown",
      "source": [
        "**Quiz Question: What is the predicted price for the 1st house in the TEST data set for model 2 (round to nearest dollar)?**"
      ],
      "metadata": {
        "id": "g1rZ6s1Q1rMV"
      }
    },
    {
      "cell_type": "code",
      "source": [
        "print(\"The predicted price for the 1st house in the TEST data set for model 2 is ${}\".format((test_predictions_model_2[0]).round(0)))"
      ],
      "metadata": {
        "colab": {
          "base_uri": "https://localhost:8080/"
        },
        "id": "BoHZnD3z1T3T",
        "outputId": "a184c3ed-71bc-4bb5-f16e-fe449b8dd0ff"
      },
      "execution_count": 26,
      "outputs": [
        {
          "output_type": "stream",
          "name": "stdout",
          "text": [
            "The predicted price for the 1st house in the TEST data set for model 2 is $366651.0\n"
          ]
        }
      ]
    },
    {
      "cell_type": "markdown",
      "source": [
        "What is the actual price for the 1st house in the test data set?"
      ],
      "metadata": {
        "id": "eO7x-jdB2L0G"
      }
    },
    {
      "cell_type": "code",
      "source": [
        "actual_price_house_1 = test_data['price'][0]\n",
        "print(\"The actual price for the 1st house in the test data set is ${}\".format(actual_price_house_1))"
      ],
      "metadata": {
        "colab": {
          "base_uri": "https://localhost:8080/"
        },
        "id": "2fmKLZTM2G0_",
        "outputId": "145c1ae9-9cd0-4c71-f2c1-487c13b56f6b"
      },
      "execution_count": 27,
      "outputs": [
        {
          "output_type": "stream",
          "name": "stdout",
          "text": [
            "The actual price for the 1st house in the test data set is $310000.0\n"
          ]
        }
      ]
    },
    {
      "cell_type": "markdown",
      "source": [
        "**Quiz Question: Which estimate was closer to the true price for the 1st house on the TEST data set, model 1 or model 2?**"
      ],
      "metadata": {
        "id": "hzvLo40N2vzN"
      }
    },
    {
      "cell_type": "code",
      "source": [
        "if ((abs(test_predictions[0] - actual_price_house_1)) > (abs(test_predictions_model_2[0] - actual_price_house_1))):\n",
        "  print(\"The price estimated for the 1st house from Model 2 is closer to the true price on the TEST data set.\")\n",
        "else:\n",
        "  print(\"The price estimated for the 1st house from Model 1 is closer to the true price on the TEST data set.\")"
      ],
      "metadata": {
        "colab": {
          "base_uri": "https://localhost:8080/"
        },
        "id": "QyP0Bt-l2kZq",
        "outputId": "8def5ff1-cf2f-4310-fe18-216bf3a00d7b"
      },
      "execution_count": 28,
      "outputs": [
        {
          "output_type": "stream",
          "name": "stdout",
          "text": [
            "The price estimated for the 1st house from Model 1 is closer to the true price on the TEST data set.\n"
          ]
        }
      ]
    },
    {
      "cell_type": "markdown",
      "source": [
        "Now use your predictions and the output to compute the RSS for model 2 on TEST data."
      ],
      "metadata": {
        "id": "yTzc96TY4LeL"
      }
    },
    {
      "cell_type": "code",
      "source": [
        "test_residuals_2 = test_output - test_predictions_model_2\n",
        "test_RSS_2 = (test_residuals_2 * test_residuals_2).sum()\n",
        "print(test_RSS_2)"
      ],
      "metadata": {
        "colab": {
          "base_uri": "https://localhost:8080/"
        },
        "id": "2WV-Anhc4DNG",
        "outputId": "31c5a38b-80d6-4a43-d4cc-7401ecb86491"
      },
      "execution_count": 29,
      "outputs": [
        {
          "output_type": "stream",
          "name": "stdout",
          "text": [
            "270263446465244.06\n"
          ]
        }
      ]
    },
    {
      "cell_type": "markdown",
      "source": [
        "**Quiz Question: Which model (1 or 2) has lowest RSS on all of the TEST data?** "
      ],
      "metadata": {
        "id": "vAlu4Xu3438J"
      }
    },
    {
      "cell_type": "code",
      "source": [
        "if test_RSS_1 > test_RSS_2:\n",
        "  print(\"Model 2 has lowest RSS on all of the TEST data.\")\n",
        "else:\n",
        "  print(\"Model 1 has lowest RSS on all of the TEST data.\")"
      ],
      "metadata": {
        "colab": {
          "base_uri": "https://localhost:8080/"
        },
        "id": "1S8hPt7C4zwx",
        "outputId": "d589e869-b06c-4e12-812f-d9651ae643e3"
      },
      "execution_count": 30,
      "outputs": [
        {
          "output_type": "stream",
          "name": "stdout",
          "text": [
            "Model 2 has lowest RSS on all of the TEST data.\n"
          ]
        }
      ]
    }
  ]
}